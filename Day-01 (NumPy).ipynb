{
 "cells": [
  {
   "cell_type": "code",
   "execution_count": 1,
   "id": "63cc2b4e-2c1e-4ee0-8311-31187d73d0bc",
   "metadata": {},
   "outputs": [],
   "source": [
    "# importing numpy library\n",
    "import numpy as np"
   ]
  },
  {
   "cell_type": "code",
   "execution_count": 3,
   "id": "7b24e833-dd50-46fb-b2fe-9fb1e09cc838",
   "metadata": {},
   "outputs": [
    {
     "name": "stdout",
     "output_type": "stream",
     "text": [
      "[1 2 3 4]\n",
      "[[1 2]\n",
      " [3 4]]\n"
     ]
    }
   ],
   "source": [
    "# Creating a NumPy array and Matrix\n",
    "\n",
    "narray = np.array([1,2,3,4])\n",
    "matrix = np.array([[1,2],[3,4]])\n",
    "print(narray)\n",
    "print(matrix)"
   ]
  },
  {
   "cell_type": "code",
   "execution_count": 5,
   "id": "d8a7c9af-813a-49b0-917d-0e03e9ea4354",
   "metadata": {},
   "outputs": [
    {
     "name": "stdout",
     "output_type": "stream",
     "text": [
      "[0. 0. 0. 0. 0.]\n",
      "[1. 1. 1. 1. 1.]\n",
      "[[[0. 0. 0.]\n",
      "  [0. 0. 0.]\n",
      "  [0. 0. 0.]]\n",
      "\n",
      " [[0. 0. 0.]\n",
      "  [0. 0. 0.]\n",
      "  [0. 0. 0.]]\n",
      "\n",
      " [[0. 0. 0.]\n",
      "  [0. 0. 0.]\n",
      "  [0. 0. 0.]]]\n",
      "[[1. 1.]\n",
      " [1. 1.]\n",
      " [1. 1.]]\n"
     ]
    }
   ],
   "source": [
    "# Zero and One Array - np.zeros(shape, dtype) OR np.zeros(shape)\n",
    "zarray = np.zeros(5)\n",
    "oarray = np.ones(5)\n",
    "print(zarray)\n",
    "print(oarray)\n",
    "\n",
    "# Zero and One Matrix \n",
    "zmatrix = np.zeros((3,3,3))\n",
    "omatrix = np.ones((3,2))\n",
    "print(zmatrix)\n",
    "print(omatrix)"
   ]
  },
  {
   "cell_type": "code",
   "execution_count": 7,
   "id": "94903515-ffa5-41ff-b73b-17241b652632",
   "metadata": {},
   "outputs": [
    {
     "name": "stdout",
     "output_type": "stream",
     "text": [
      "[9 2 9 5 9]\n",
      "[[[0.97387177 0.45467031]\n",
      "  [0.45957366 0.35392966]]\n",
      "\n",
      " [[0.65334773 0.75374078]\n",
      "  [0.41656714 0.81587069]]]\n"
     ]
    }
   ],
   "source": [
    "# Creating an array of 5 random integers between 1 and 10\n",
    "\n",
    "arr = np.random.randint(1, 11, 5)\n",
    "print(arr)\n",
    "\n",
    "# Creating a N x N array of random floats between 0 and 1 (1 exclusive)\n",
    "arr2 = np.random.rand(2, 2, 2)\n",
    "print(arr2)"
   ]
  },
  {
   "cell_type": "code",
   "execution_count": 93,
   "id": "d60d9bcb-dbd0-4991-8071-c5fd53320d81",
   "metadata": {},
   "outputs": [
    {
     "name": "stdout",
     "output_type": "stream",
     "text": [
      "[  0   5  10  15  20  25  30  35  40  45  50  55  60  65  70  75  80  85\n",
      "  90  95 100 105 110 115 120 125 130 135 140 145 150 155 160 165 170 175\n",
      " 180 185 190 195]\n"
     ]
    }
   ],
   "source": [
    "# ARANGE = np.arange(start, end, step_size)\n",
    "\n",
    "a_array = np.arange(0,200,5)\n",
    "print(a_array)"
   ]
  },
  {
   "cell_type": "code",
   "execution_count": 95,
   "id": "db16624c-7835-4c0e-9931-cc0e8151ad2a",
   "metadata": {},
   "outputs": [
    {
     "name": "stdout",
     "output_type": "stream",
     "text": [
      "[0.   0.75 1.5  2.25 3.  ]\n"
     ]
    }
   ],
   "source": [
    "# LINSPACE = np.linspace(start, end, no_of_elements)\n",
    "# spacing bw elements = (end - start) / (no_of_elements - 1)\n",
    "\n",
    "l_array = np.linspace(0,3,5)\n",
    "print(l_array)"
   ]
  },
  {
   "cell_type": "code",
   "execution_count": 99,
   "id": "23cf1162-cef2-4f5b-b5ef-c7ccdf82d805",
   "metadata": {},
   "outputs": [
    {
     "name": "stdout",
     "output_type": "stream",
     "text": [
      "[0.9408445  0.63310452 0.54151064 0.60303489 0.30466033 0.68857295\n",
      " 0.99940099 0.36116024 0.68151086 0.44908478 0.77541341 0.63088356\n",
      " 0.17017147 0.59891659 0.79199354 0.5605505  0.37453766 0.5581082\n",
      " 0.50008057 0.65381531]\n",
      "[36  2 37 40 22 28 34 13 18  6 26 40 30 19 24]\n"
     ]
    }
   ],
   "source": [
    "# np.RANDOM.RAND(N) - Array of N random floats between 0 and 1\n",
    "r1_array = np.random.rand(20)\n",
    "print(r1_array)\n",
    "\n",
    "# np.RANDOM.RANDINT(a,b,N) - N random integers between a and b\n",
    "r2_array = np.random.randint(1,50,15)   \n",
    "print(r2_array)"
   ]
  },
  {
   "cell_type": "code",
   "execution_count": 103,
   "id": "fd53c14b-a45d-4af3-b020-0d2c0ee00824",
   "metadata": {},
   "outputs": [
    {
     "name": "stdout",
     "output_type": "stream",
     "text": [
      "Minimum: 2\n",
      "Maximum: 40\n",
      "Sum: 375\n",
      "Mean: 25.0\n",
      "Median: 26.0\n"
     ]
    }
   ],
   "source": [
    "# Basic statistical operations\n",
    "print(\"Minimum:\", np.min(r2_array))\n",
    "print(\"Maximum:\", np.max(r2_array))\n",
    "print(\"Sum:\",     np.sum(r2_array))\n",
    "print(\"Mean:\",    np.mean(r2_array))\n",
    "print(\"Median:\",  np.median(r2_array))\n"
   ]
  },
  {
   "cell_type": "code",
   "execution_count": 135,
   "id": "a67fd9ec-5b46-4f46-8818-9a65a37da3d4",
   "metadata": {},
   "outputs": [
    {
     "name": "stdout",
     "output_type": "stream",
     "text": [
      "[[1. 1. 1. 1. 1. 1. 1. 1. 1.]\n",
      " [1. 1. 1. 1. 1. 1. 1. 1. 1.]\n",
      " [1. 1. 1. 1. 1. 1. 1. 1. 1.]\n",
      " [1. 1. 1. 1. 1. 1. 1. 1. 1.]\n",
      " [1. 1. 1. 1. 1. 1. 1. 1. 1.]\n",
      " [1. 1. 1. 1. 1. 1. 1. 1. 1.]\n",
      " [1. 1. 1. 1. 1. 1. 1. 1. 1.]\n",
      " [1. 1. 1. 1. 1. 1. 1. 1. 1.]\n",
      " [1. 1. 1. 1. 1. 1. 1. 1. 1.]]\n",
      "[[0. 0. 0. 0. 0. 0. 0.]\n",
      " [0. 0. 0. 0. 0. 0. 0.]\n",
      " [0. 0. 0. 0. 0. 0. 0.]\n",
      " [0. 0. 0. 0. 0. 0. 0.]\n",
      " [0. 0. 0. 0. 0. 0. 0.]\n",
      " [0. 0. 0. 0. 0. 0. 0.]\n",
      " [0. 0. 0. 0. 0. 0. 0.]]\n",
      "[[3. 0. 0. 0. 0.]\n",
      " [0. 3. 0. 0. 0.]\n",
      " [0. 0. 3. 0. 0.]\n",
      " [0. 0. 0. 3. 0.]\n",
      " [0. 0. 0. 0. 3.]]\n",
      "[[1. 1. 1. 1. 1. 1. 1. 1. 1.]\n",
      " [1. 0. 0. 0. 0. 0. 0. 0. 1.]\n",
      " [1. 0. 0. 0. 0. 0. 0. 0. 1.]\n",
      " [1. 0. 0. 0. 0. 0. 0. 0. 1.]\n",
      " [1. 0. 0. 0. 0. 0. 0. 0. 1.]\n",
      " [1. 0. 0. 0. 0. 0. 0. 0. 1.]\n",
      " [1. 0. 0. 0. 0. 0. 0. 0. 1.]\n",
      " [1. 0. 0. 0. 0. 0. 0. 0. 1.]\n",
      " [1. 1. 1. 1. 1. 1. 1. 1. 1.]]\n",
      "[[1. 1. 1. 1. 1. 1. 1. 1. 1.]\n",
      " [1. 0. 0. 0. 0. 0. 0. 0. 1.]\n",
      " [1. 0. 3. 0. 0. 0. 0. 0. 1.]\n",
      " [1. 0. 0. 3. 0. 0. 0. 0. 1.]\n",
      " [1. 0. 0. 0. 3. 0. 0. 0. 1.]\n",
      " [1. 0. 0. 0. 0. 3. 0. 0. 1.]\n",
      " [1. 0. 0. 0. 0. 0. 3. 0. 1.]\n",
      " [1. 0. 0. 0. 0. 0. 0. 0. 1.]\n",
      " [1. 1. 1. 1. 1. 1. 1. 1. 1.]]\n"
     ]
    }
   ],
   "source": [
    "# Custom 9x9 Matrix:\n",
    "# 1 1 1 1 1 1 1 1 1\n",
    "# 1 0 0 0 0 0 0 0 1\n",
    "# 1 0 3 0 0 0 0 0 1\n",
    "# 1 0 0 3 0 0 0 0 1\n",
    "# 1 0 0 0 3 0 0 0 1\n",
    "# 1 0 0 0 0 3 0 0 1\n",
    "# 1 0 0 0 0 0 3 0 1\n",
    "# 1 0 0 0 0 0 0 0 1\n",
    "# 1 1 1 1 1 1 1 1 1\n",
    "\n",
    "a = np.ones((9,9))\n",
    "b = np.zeros((7,7))\n",
    "c = np.identity(5) * 3\n",
    "print(a)\n",
    "print(b)\n",
    "print(c)\n",
    "a[1:8, 1:8] = b\n",
    "print(a)\n",
    "a[2:7,2:7] = c\n",
    "print(a)"
   ]
  },
  {
   "cell_type": "code",
   "execution_count": null,
   "id": "75f05046-810c-4fde-ad9a-b9526535b4b1",
   "metadata": {},
   "outputs": [],
   "source": []
  }
 ],
 "metadata": {
  "kernelspec": {
   "display_name": "Python 3 (ipykernel)",
   "language": "python",
   "name": "python3"
  },
  "language_info": {
   "codemirror_mode": {
    "name": "ipython",
    "version": 3
   },
   "file_extension": ".py",
   "mimetype": "text/x-python",
   "name": "python",
   "nbconvert_exporter": "python",
   "pygments_lexer": "ipython3",
   "version": "3.12.4"
  }
 },
 "nbformat": 4,
 "nbformat_minor": 5
}
